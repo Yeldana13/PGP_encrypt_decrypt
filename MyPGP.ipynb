{
  "nbformat": 4,
  "nbformat_minor": 0,
  "metadata": {
    "colab": {
      "name": "MyPGP.ipynb",
      "provenance": [],
      "collapsed_sections": [],
      "include_colab_link": true
    },
    "kernelspec": {
      "name": "python3",
      "display_name": "Python 3"
    }
  },
  "cells": [
    {
      "cell_type": "markdown",
      "metadata": {
        "id": "view-in-github",
        "colab_type": "text"
      },
      "source": [
        "<a href=\"https://colab.research.google.com/github/Yeldana13/PGP_encrypt_decrypt/blob/master/MyPGP.ipynb\" target=\"_parent\"><img src=\"https://colab.research.google.com/assets/colab-badge.svg\" alt=\"Open In Colab\"/></a>"
      ]
    },
    {
      "cell_type": "code",
      "metadata": {
        "id": "9JwQgbvcpq4o",
        "colab_type": "code",
        "outputId": "7354a25a-f46f-4c6f-b952-f11266d5dc20",
        "colab": {
          "base_uri": "https://localhost:8080/",
          "height": 211
        }
      },
      "source": [
        "pip install pycrypto"
      ],
      "execution_count": 0,
      "outputs": [
        {
          "output_type": "stream",
          "text": [
            "Collecting pycrypto\n",
            "\u001b[?25l  Downloading https://files.pythonhosted.org/packages/60/db/645aa9af249f059cc3a368b118de33889219e0362141e75d4eaf6f80f163/pycrypto-2.6.1.tar.gz (446kB)\n",
            "\r\u001b[K     |▊                               | 10kB 13.7MB/s eta 0:00:01\r\u001b[K     |█▌                              | 20kB 3.2MB/s eta 0:00:01\r\u001b[K     |██▏                             | 30kB 4.5MB/s eta 0:00:01\r\u001b[K     |███                             | 40kB 3.0MB/s eta 0:00:01\r\u001b[K     |███▊                            | 51kB 3.7MB/s eta 0:00:01\r\u001b[K     |████▍                           | 61kB 4.3MB/s eta 0:00:01\r\u001b[K     |█████▏                          | 71kB 5.0MB/s eta 0:00:01\r\u001b[K     |█████▉                          | 81kB 5.6MB/s eta 0:00:01\r\u001b[K     |██████▋                         | 92kB 6.3MB/s eta 0:00:01\r\u001b[K     |███████▍                        | 102kB 4.9MB/s eta 0:00:01\r\u001b[K     |████████                        | 112kB 4.9MB/s eta 0:00:01\r\u001b[K     |████████▉                       | 122kB 4.9MB/s eta 0:00:01\r\u001b[K     |█████████▌                      | 133kB 4.9MB/s eta 0:00:01\r\u001b[K     |██████████▎                     | 143kB 4.9MB/s eta 0:00:01\r\u001b[K     |███████████                     | 153kB 4.9MB/s eta 0:00:01\r\u001b[K     |███████████▊                    | 163kB 4.9MB/s eta 0:00:01\r\u001b[K     |████████████▌                   | 174kB 4.9MB/s eta 0:00:01\r\u001b[K     |█████████████▏                  | 184kB 4.9MB/s eta 0:00:01\r\u001b[K     |██████████████                  | 194kB 4.9MB/s eta 0:00:01\r\u001b[K     |██████████████▊                 | 204kB 4.9MB/s eta 0:00:01\r\u001b[K     |███████████████▍                | 215kB 4.9MB/s eta 0:00:01\r\u001b[K     |████████████████▏               | 225kB 4.9MB/s eta 0:00:01\r\u001b[K     |█████████████████               | 235kB 4.9MB/s eta 0:00:01\r\u001b[K     |█████████████████▋              | 245kB 4.9MB/s eta 0:00:01\r\u001b[K     |██████████████████▍             | 256kB 4.9MB/s eta 0:00:01\r\u001b[K     |███████████████████             | 266kB 4.9MB/s eta 0:00:01\r\u001b[K     |███████████████████▉            | 276kB 4.9MB/s eta 0:00:01\r\u001b[K     |████████████████████▋           | 286kB 4.9MB/s eta 0:00:01\r\u001b[K     |█████████████████████▎          | 296kB 4.9MB/s eta 0:00:01\r\u001b[K     |██████████████████████          | 307kB 4.9MB/s eta 0:00:01\r\u001b[K     |██████████████████████▊         | 317kB 4.9MB/s eta 0:00:01\r\u001b[K     |███████████████████████▌        | 327kB 4.9MB/s eta 0:00:01\r\u001b[K     |████████████████████████▎       | 337kB 4.9MB/s eta 0:00:01\r\u001b[K     |█████████████████████████       | 348kB 4.9MB/s eta 0:00:01\r\u001b[K     |█████████████████████████▊      | 358kB 4.9MB/s eta 0:00:01\r\u001b[K     |██████████████████████████▍     | 368kB 4.9MB/s eta 0:00:01\r\u001b[K     |███████████████████████████▏    | 378kB 4.9MB/s eta 0:00:01\r\u001b[K     |████████████████████████████    | 389kB 4.9MB/s eta 0:00:01\r\u001b[K     |████████████████████████████▋   | 399kB 4.9MB/s eta 0:00:01\r\u001b[K     |█████████████████████████████▍  | 409kB 4.9MB/s eta 0:00:01\r\u001b[K     |██████████████████████████████  | 419kB 4.9MB/s eta 0:00:01\r\u001b[K     |██████████████████████████████▉ | 430kB 4.9MB/s eta 0:00:01\r\u001b[K     |███████████████████████████████▋| 440kB 4.9MB/s eta 0:00:01\r\u001b[K     |████████████████████████████████| 450kB 4.9MB/s \n",
            "\u001b[?25hBuilding wheels for collected packages: pycrypto\n",
            "  Building wheel for pycrypto (setup.py) ... \u001b[?25l\u001b[?25hdone\n",
            "  Created wheel for pycrypto: filename=pycrypto-2.6.1-cp36-cp36m-linux_x86_64.whl size=499957 sha256=3303728acc41aa1e45943b35435459d71f9f9213e64001a8d9e545463072ee05\n",
            "  Stored in directory: /root/.cache/pip/wheels/27/02/5e/77a69d0c16bb63c6ed32f5386f33a2809c94bd5414a2f6c196\n",
            "Successfully built pycrypto\n",
            "Installing collected packages: pycrypto\n",
            "Successfully installed pycrypto-2.6.1\n"
          ],
          "name": "stdout"
        }
      ]
    },
    {
      "cell_type": "code",
      "metadata": {
        "id": "RAvTg1ujpuMH",
        "colab_type": "code",
        "colab": {}
      },
      "source": [
        "import Crypto\n",
        "from Crypto.PublicKey import RSA\n",
        "from Crypto import Random\n",
        "import ast"
      ],
      "execution_count": 0,
      "outputs": []
    },
    {
      "cell_type": "code",
      "metadata": {
        "id": "2xe2bDWOzOFz",
        "colab_type": "code",
        "outputId": "e558653d-9e87-43dd-c25c-04fe8cc5ace1",
        "colab": {
          "base_uri": "https://localhost:8080/",
          "height": 35
        }
      },
      "source": [
        "message=input('Enter your message: ')"
      ],
      "execution_count": 0,
      "outputs": [
        {
          "output_type": "stream",
          "text": [
            "Enter your message: hello world\n"
          ],
          "name": "stdout"
        }
      ]
    },
    {
      "cell_type": "code",
      "metadata": {
        "id": "0-IpGSbNzOKX",
        "colab_type": "code",
        "outputId": "2fdd46b8-2cd5-4956-ef01-7b72852c564c",
        "colab": {
          "base_uri": "https://localhost:8080/",
          "height": 35
        }
      },
      "source": [
        "print(message)"
      ],
      "execution_count": 0,
      "outputs": [
        {
          "output_type": "stream",
          "text": [
            "hello world\n"
          ],
          "name": "stdout"
        }
      ]
    },
    {
      "cell_type": "code",
      "metadata": {
        "id": "laU5yX9mzOPk",
        "colab_type": "code",
        "colab": {}
      },
      "source": [
        "import hash lib"
      ],
      "execution_count": 0,
      "outputs": []
    },
    {
      "cell_type": "code",
      "metadata": {
        "id": "u1XNHJ6AzvsG",
        "colab_type": "code",
        "outputId": "ef4fe3fb-5718-41fd-8c3d-693deb005278",
        "colab": {
          "base_uri": "https://localhost:8080/",
          "height": 35
        }
      },
      "source": [
        "hash_object = hashlib.md5(message.encode())\n",
        "print(hash_object.hexdigest())"
      ],
      "execution_count": 0,
      "outputs": [
        {
          "output_type": "stream",
          "text": [
            "5eb63bbbe01eeed093cb22bb8f5acdc3\n"
          ],
          "name": "stdout"
        }
      ]
    },
    {
      "cell_type": "code",
      "metadata": {
        "id": "OYbPi9Bkz0az",
        "colab_type": "code",
        "outputId": "f9845c1a-7aad-470e-e0b4-3cb50401fa3f",
        "colab": {
          "base_uri": "https://localhost:8080/",
          "height": 55
        }
      },
      "source": [
        "random_generator = Random.new().read\n",
        "key = RSA.generate(1024, random_generator) #generate pub and priv key\n",
        "\n",
        "publickey = key.publickey() # pub key export for exchange\n",
        "encrypted = publickey.encrypt(hash_object.encode('utf-8'), 32)\n",
        "#message to encrypt is in the above line 'encrypt this message'\n",
        "\n",
        "print ('encrypted message:', encrypted )#ciphertext"
      ],
      "execution_count": 0,
      "outputs": [
        {
          "output_type": "stream",
          "text": [
            "encrypted message: (b'JW h\\x08\\xac\\x82\\x05F\\xab[\\xbfE13)\\xf39FJZ\\x9a&\\x16\\x87nt\\xe4\\xd1\\xc5\\x9e]}\\x07;\\xed\\xd6\\xcc\\xb5\\x10\\x07\\xd4\\xd8\\xadq{T\\xfcy}\\xdb\\xf1\\xb7-6\\xcc\\x14\\xdcBo\\xbd\\xe9b@\\xdd\\xee\\xca\\xa1m1\"\\x08\\x0bp-Z\\xee\\x81\\x04\\xe2oQ\\xcc\\x8f>\\x1c\\xf6#\\x80h\\x80\\xdf;\\x0b\\xb9\\n\\xe1\\xde\\xe8\\x91\\x13\\xfar\\xec\\xd3\\xee\\x0c\\xb4\\x1a,\\x06\\xa7\\xd7\\x11\\x0c\\xcb\\x1f\\xfd<\\xddU\\x9a$#>@@\\xbe',)\n"
          ],
          "name": "stdout"
        }
      ]
    },
    {
      "cell_type": "code",
      "metadata": {
        "id": "_0h14Zgf04YH",
        "colab_type": "code",
        "colab": {}
      },
      "source": [
        "concat=message+str(encrypted)"
      ],
      "execution_count": 0,
      "outputs": []
    },
    {
      "cell_type": "code",
      "metadata": {
        "id": "Z1N3ElPK0Ree",
        "colab_type": "code",
        "outputId": "1db8180c-440a-41b9-8962-a56d81126dfd",
        "colab": {
          "base_uri": "https://localhost:8080/",
          "height": 55
        }
      },
      "source": [
        "print(concat)"
      ],
      "execution_count": 0,
      "outputs": [
        {
          "output_type": "stream",
          "text": [
            "hello world(b'JW h\\x08\\xac\\x82\\x05F\\xab[\\xbfE13)\\xf39FJZ\\x9a&\\x16\\x87nt\\xe4\\xd1\\xc5\\x9e]}\\x07;\\xed\\xd6\\xcc\\xb5\\x10\\x07\\xd4\\xd8\\xadq{T\\xfcy}\\xdb\\xf1\\xb7-6\\xcc\\x14\\xdcBo\\xbd\\xe9b@\\xdd\\xee\\xca\\xa1m1\"\\x08\\x0bp-Z\\xee\\x81\\x04\\xe2oQ\\xcc\\x8f>\\x1c\\xf6#\\x80h\\x80\\xdf;\\x0b\\xb9\\n\\xe1\\xde\\xe8\\x91\\x13\\xfar\\xec\\xd3\\xee\\x0c\\xb4\\x1a,\\x06\\xa7\\xd7\\x11\\x0c\\xcb\\x1f\\xfd<\\xddU\\x9a$#>@@\\xbe',)\n"
          ],
          "name": "stdout"
        }
      ]
    },
    {
      "cell_type": "code",
      "metadata": {
        "id": "9I7EL_Sr1WYH",
        "colab_type": "code",
        "colab": {}
      },
      "source": [
        "import zlib"
      ],
      "execution_count": 0,
      "outputs": []
    },
    {
      "cell_type": "code",
      "metadata": {
        "id": "EXVd49yH1WdI",
        "colab_type": "code",
        "colab": {}
      },
      "source": [
        "cmpstr = zlib.compress(concat.encode('utf-8'))\n"
      ],
      "execution_count": 0,
      "outputs": []
    },
    {
      "cell_type": "code",
      "metadata": {
        "id": "IS40jVlL1prI",
        "colab_type": "code",
        "outputId": "e4547946-5c53-4a53-c44d-6fa9f33c597d",
        "colab": {
          "base_uri": "https://localhost:8080/",
          "height": 55
        }
      },
      "source": [
        "print(cmpstr)"
      ],
      "execution_count": 0,
      "outputs": [
        {
          "output_type": "stream",
          "text": [
            "b\"x\\x9c-\\x90]K\\xc3@\\x10E\\xffJ\\xb1b-\\xb4\\xb0\\xd3\\xd8&\\xa1R\\x8a`\\x1f\\xfa&(B\\x1d\\x1f\\xf6\\x93<\\xd4F\\x8b\\xe0\\x8a\\xf8\\xdf=K|\\xd80s\\xef\\xdc\\x93\\xd9\\xed\\xe2\\xf1\\xd8\\x8f\\xbe\\xfa\\xf31\\\\\\xbb\\xc9\\xfey\\xd4i6\\x8df\\xeb57\\x0b\\xea\\xe5\\x8e\\xc6\\xbdhv\\xe9^\\xaa\\xa9\\xe6T\\xb5\\xbb\\xfdAsk\\xaf4\\xcb\\x8a\\xb1\\xfa\\xf4\\xa99\\xdeh\\x0e\\xa2\\xd9/\\xb1\\xe2\\xeb/\\xd1z\\x8d\\x1c\\x90\\x19\\xf2\\xf0\\x1c\\x96\\x98b\\xa0\\x95\\xf1\\xf2\\x9f\\xf0\\xf1\\xf3\\x08\\xd4\\x7f\\x93\\x08\\x8e\\n\\x86\\xab\\xe7\\xff\\x11)c\\xfe\\xaeG\\x03\\x14[\\xb7\\xa5/U\\xc4\\xb7\\xc4\\xe5M.\\x86\\x8d\\x8d{\\x9f\\x1f\\x06\\xa7\\x81aH\\xc6E\\xff0p\\x9a\\xb4\\x01F\\x91Vc:\\xd3\\x95\\x0f\\xa8\\xb4.A\\xe8\\xad\\x9e\\x98'\\x17\\xc8Gp-\\xb5T\\x04\\xec\\x19\\x81d\\xa8\\x06\\xb8)7\\x01.vF\\xc3\\x9e\\xb6\\\\\\x87#2\\x98\\x1e\\x9e$\\x92\\xe1\\xb6,\\xfbT\\x9e\\xear\\xbc\\xd9\\xb2\\xba\\x8b\\x93\\xd9\\xf4\\x0fS\\xae\\x81\\x94\"\n"
          ],
          "name": "stdout"
        }
      ]
    },
    {
      "cell_type": "code",
      "metadata": {
        "id": "jlN20rQZ1sOG",
        "colab_type": "code",
        "colab": {}
      },
      "source": [
        "uncmpstr = zlib.decompress(cmpstr)"
      ],
      "execution_count": 0,
      "outputs": []
    },
    {
      "cell_type": "code",
      "metadata": {
        "id": "P8H142sh1vwf",
        "colab_type": "code",
        "outputId": "c1578187-7dc5-48fb-f437-c121014c82b8",
        "colab": {
          "base_uri": "https://localhost:8080/",
          "height": 55
        }
      },
      "source": [
        "print(uncmpstr)"
      ],
      "execution_count": 0,
      "outputs": [
        {
          "output_type": "stream",
          "text": [
            "b\"Hello world(b')\\\\xc9\\\\xbco\\\\x9d \\\\x04\\\\x97>\\\\xc3\\\\x07\\\\xf1p\\\\xf1@\\\\xc4\\\\xb0\\\\xf9\\\\x07 \\\\x96#*7r6r\\\\xc9\\\\xe0e\\\\x14\\\\xc7\\\\x8c\\\\x0b\\\\xb6\\\\x86}\\\\xd6\\\\xd6cI\\\\xdb<O\\\\x1f\\\\xe61\\\\x00\\\\\\\\/\\\\xf2\\\\x94@H(\\\\xbc\\\\xc47{\\\\xae\\\\xd1\\\\ryzd\\\\x85\\\\xd5\\\\xfb\\\\x7f\\\\xb3\\\\xa8\\\\x9c\\\\xf2\\\\xbd7\\\\xba\\\\x94\\\\xb6[\\\\x01\\\\x9d\\\\x84\\\\x8f\\\\xa7m\\\\xaa\\\\xe3\\\\x9by\\\\xd6\\\\x10\\\\xd1\\\\xf7\\\\x97\\\\x15\\\\xc11\\\\x8a\\\\xc7\\\\xea<\\\\x1cK\\\\x11>I\\\\x81\\\\xf1\\\\xac\\\\xd9\\\\xe5\\\\x81\\\\x18\\\\x8e\\\\xb5\\\\xd6B\\\\xcd[\\\\xfd\\\\x82\\\\r\\\\xb5\\\\xd5m\\\\xf4\\\\xdf\\\\x17',)\"\n"
          ],
          "name": "stdout"
        }
      ]
    },
    {
      "cell_type": "code",
      "metadata": {
        "id": "hTXuJaSU10As",
        "colab_type": "code",
        "colab": {}
      },
      "source": [
        "\n"
      ],
      "execution_count": 0,
      "outputs": []
    },
    {
      "cell_type": "code",
      "metadata": {
        "id": "4gNnHt5F3QNw",
        "colab_type": "code",
        "outputId": "2655a745-63b8-4dd8-92ae-4582751aa3d1",
        "colab": {
          "base_uri": "https://localhost:8080/",
          "height": 176
        }
      },
      "source": [
        " pip install cryptography"
      ],
      "execution_count": 0,
      "outputs": [
        {
          "output_type": "stream",
          "text": [
            "Collecting cryptography\n",
            "\u001b[?25l  Downloading https://files.pythonhosted.org/packages/ca/9a/7cece52c46546e214e10811b36b2da52ce1ea7fa203203a629b8dfadad53/cryptography-2.8-cp34-abi3-manylinux2010_x86_64.whl (2.3MB)\n",
            "\u001b[K     |████████████████████████████████| 2.3MB 9.6MB/s \n",
            "\u001b[?25hRequirement already satisfied: cffi!=1.11.3,>=1.8 in /usr/local/lib/python3.6/dist-packages (from cryptography) (1.13.0)\n",
            "Requirement already satisfied: six>=1.4.1 in /usr/local/lib/python3.6/dist-packages (from cryptography) (1.12.0)\n",
            "Requirement already satisfied: pycparser in /usr/local/lib/python3.6/dist-packages (from cffi!=1.11.3,>=1.8->cryptography) (2.19)\n",
            "Installing collected packages: cryptography\n",
            "Successfully installed cryptography-2.8\n"
          ],
          "name": "stdout"
        }
      ]
    },
    {
      "cell_type": "code",
      "metadata": {
        "id": "gM__-WQg2AIw",
        "colab_type": "code",
        "colab": {}
      },
      "source": [
        "import cryptography\n",
        "from cryptography.fernet import Fernet"
      ],
      "execution_count": 0,
      "outputs": []
    },
    {
      "cell_type": "code",
      "metadata": {
        "id": "zy_JV8aB3V2C",
        "colab_type": "code",
        "colab": {}
      },
      "source": [
        "session_key = Fernet.generate_key()\n",
        "f=Fernet(session_key)"
      ],
      "execution_count": 0,
      "outputs": []
    },
    {
      "cell_type": "code",
      "metadata": {
        "id": "OjG8Zlv435uN",
        "colab_type": "code",
        "outputId": "ff2035ff-b910-47c9-be04-591b79a37da1",
        "colab": {
          "base_uri": "https://localhost:8080/",
          "height": 35
        }
      },
      "source": [
        "print(session_key)"
      ],
      "execution_count": 0,
      "outputs": [
        {
          "output_type": "stream",
          "text": [
            "b'SE1sXEGyghgO35TsyvduN2POAEoOz0uLlFweVeqo5Tk='\n"
          ],
          "name": "stdout"
        }
      ]
    },
    {
      "cell_type": "code",
      "metadata": {
        "id": "FhpUAw8037y8",
        "colab_type": "code",
        "colab": {}
      },
      "source": [
        "encryptedbysession = f.encrypt(cmpstr)"
      ],
      "execution_count": 0,
      "outputs": []
    },
    {
      "cell_type": "code",
      "metadata": {
        "id": "zDqqfsKE37vm",
        "colab_type": "code",
        "outputId": "5d0e25f8-50f3-4730-ee87-3303a3d16323",
        "colab": {
          "base_uri": "https://localhost:8080/",
          "height": 55
        }
      },
      "source": [
        "print(encryptedbysession)"
      ],
      "execution_count": 0,
      "outputs": [
        {
          "output_type": "stream",
          "text": [
            "b'gAAAAABdrctbGNQQamSDG6Svz_iFmktz9E9zieHXZzDSqr-Wdz7ghH8nbvurhzpQ_rKbuuqnPjr1_nbePToNuldvQcExJBlenYiKY1WvUROo8G5UB4MuXXKBRx__2QgXsKxBt8zxUz4A0zB9vNFsxid51bex2dXlyf0q1QtIiYI6YDlJ9g0RnQ6SvP3H0JnbXgygMqBrmA3AUrp8_8MUHufSIJ5cDjTbwX36Xkc713oQdaGbXsEkNZJ2Jk0jV_irag4850sl5c3xUTZzK4j1BPxW3Wc-Cdc36TU_d2JS5tlRsrs3xk-73tC-yBJDd36EN-B9YxyArgpU4C0Ewz5tLuunBaiWyNnNv-WI3HvcdiwuRP6h-kifsBql_d4i2NePLeP1J2-5PCQR-LUuXaj6CoSSQ7BYdn-q1g=='\n"
          ],
          "name": "stdout"
        }
      ]
    },
    {
      "cell_type": "code",
      "metadata": {
        "id": "RfeTCFux4ErN",
        "colab_type": "code",
        "outputId": "ff5f9a4f-7abf-4a97-9b28-c6a5c90d4c85",
        "colab": {
          "base_uri": "https://localhost:8080/",
          "height": 55
        }
      },
      "source": [
        "random_generator = Random.new().read\n",
        "keyforsession = RSA.generate(1024, random_generator) #generate pub and priv key\n",
        "\n",
        "publickeysession = keyforsession.publickey() # pub key export for exchange\n",
        "encryptedkey = publickeysession.encrypt(str(session_key).encode('utf-8'), 32)\n",
        "#message to encrypt is in the above line 'encrypt this message'\n",
        "\n",
        "print ('encrypted message:', encryptedkey )#ciphertext"
      ],
      "execution_count": 0,
      "outputs": [
        {
          "output_type": "stream",
          "text": [
            "encrypted message: (b'&04(\\x06\\x9b\\xf6\\xb7G\\xb4\\xc4\\xce\\xac\\x98\\xef;j\\x90~\\xa0\\x85O\\xa9K\\xfaKe\\x9a\\xb7\\x057kv8tk81\\xe8N)\\x96&\\xc8\\xea%\\xe1]\\xac\\xee\\xa5\\xf5R\\xc3gw=5\\x19\\xb7\\xfe\\xa6\\x1c=+T\\xdfQ\\xfe\\xe9\\xa3[b\\xd5P7\\x8ew\\xe6\\xa7\\xee\\x01B\\x12{<\\xea\\xc4\\x94kx\\xb0\\xd0\\xe9X2\\xff\\xd7\\xdbl#|1\\\\k\\x02\\x8b\\xef\\xeb\\xc5\\x02\\xfb^\\xbbA\\xca\\x16\\x7f\\x9e\\xa8pH\\x17\\xd3\\xe6L\\x0e\\x86',)\n"
          ],
          "name": "stdout"
        }
      ]
    },
    {
      "cell_type": "code",
      "metadata": {
        "id": "PMMky3J64Eus",
        "colab_type": "code",
        "colab": {}
      },
      "source": [
        "last_concat=str(encryptedbysession)+str(encryptedkey)"
      ],
      "execution_count": 0,
      "outputs": []
    },
    {
      "cell_type": "code",
      "metadata": {
        "id": "Fi3t01gu5Um8",
        "colab_type": "code",
        "outputId": "96800b4e-84d6-4185-8836-1bc2ea0bab97",
        "colab": {
          "base_uri": "https://localhost:8080/",
          "height": 35
        }
      },
      "source": [
        "print(keyforsession)"
      ],
      "execution_count": 0,
      "outputs": [
        {
          "output_type": "stream",
          "text": [
            "<_RSAobj @0x7fa9c5038cf8 n(1024),e,d,p,q,u,private>\n"
          ],
          "name": "stdout"
        }
      ]
    },
    {
      "cell_type": "code",
      "metadata": {
        "id": "ruIQs-k05K_V",
        "colab_type": "code",
        "outputId": "77ce0365-6862-4a95-d3b2-7efa6dc1af8d",
        "colab": {
          "base_uri": "https://localhost:8080/",
          "height": 55
        }
      },
      "source": [
        "print(last_concat)"
      ],
      "execution_count": 0,
      "outputs": [
        {
          "output_type": "stream",
          "text": [
            "b'gAAAAABdrctbGNQQamSDG6Svz_iFmktz9E9zieHXZzDSqr-Wdz7ghH8nbvurhzpQ_rKbuuqnPjr1_nbePToNuldvQcExJBlenYiKY1WvUROo8G5UB4MuXXKBRx__2QgXsKxBt8zxUz4A0zB9vNFsxid51bex2dXlyf0q1QtIiYI6YDlJ9g0RnQ6SvP3H0JnbXgygMqBrmA3AUrp8_8MUHufSIJ5cDjTbwX36Xkc713oQdaGbXsEkNZJ2Jk0jV_irag4850sl5c3xUTZzK4j1BPxW3Wc-Cdc36TU_d2JS5tlRsrs3xk-73tC-yBJDd36EN-B9YxyArgpU4C0Ewz5tLuunBaiWyNnNv-WI3HvcdiwuRP6h-kifsBql_d4i2NePLeP1J2-5PCQR-LUuXaj6CoSSQ7BYdn-q1g=='(b'&04(\\x06\\x9b\\xf6\\xb7G\\xb4\\xc4\\xce\\xac\\x98\\xef;j\\x90~\\xa0\\x85O\\xa9K\\xfaKe\\x9a\\xb7\\x057kv8tk81\\xe8N)\\x96&\\xc8\\xea%\\xe1]\\xac\\xee\\xa5\\xf5R\\xc3gw=5\\x19\\xb7\\xfe\\xa6\\x1c=+T\\xdfQ\\xfe\\xe9\\xa3[b\\xd5P7\\x8ew\\xe6\\xa7\\xee\\x01B\\x12{<\\xea\\xc4\\x94kx\\xb0\\xd0\\xe9X2\\xff\\xd7\\xdbl#|1\\\\k\\x02\\x8b\\xef\\xeb\\xc5\\x02\\xfb^\\xbbA\\xca\\x16\\x7f\\x9e\\xa8pH\\x17\\xd3\\xe6L\\x0e\\x86',)\n"
          ],
          "name": "stdout"
        }
      ]
    },
    {
      "cell_type": "code",
      "metadata": {
        "id": "R4Fram2o-6F4",
        "colab_type": "code",
        "colab": {}
      },
      "source": [
        ""
      ],
      "execution_count": 0,
      "outputs": []
    },
    {
      "cell_type": "code",
      "metadata": {
        "id": "cjN1dh-35ZrV",
        "colab_type": "code",
        "colab": {}
      },
      "source": [
        "###DECRYPT"
      ],
      "execution_count": 0,
      "outputs": []
    },
    {
      "cell_type": "code",
      "metadata": {
        "id": "QbGC2tzp5aEI",
        "colab_type": "code",
        "colab": {}
      },
      "source": [
        "first_step=last_concat.split('(')"
      ],
      "execution_count": 0,
      "outputs": []
    },
    {
      "cell_type": "code",
      "metadata": {
        "id": "6TIp2HU35zUp",
        "colab_type": "code",
        "outputId": "42350ae3-75f9-43d8-e23d-bbb3abcff7c2",
        "colab": {
          "base_uri": "https://localhost:8080/",
          "height": 55
        }
      },
      "source": [
        "print(first_step)"
      ],
      "execution_count": 0,
      "outputs": [
        {
          "output_type": "stream",
          "text": [
            "[\"b'gAAAAABdrctbGNQQamSDG6Svz_iFmktz9E9zieHXZzDSqr-Wdz7ghH8nbvurhzpQ_rKbuuqnPjr1_nbePToNuldvQcExJBlenYiKY1WvUROo8G5UB4MuXXKBRx__2QgXsKxBt8zxUz4A0zB9vNFsxid51bex2dXlyf0q1QtIiYI6YDlJ9g0RnQ6SvP3H0JnbXgygMqBrmA3AUrp8_8MUHufSIJ5cDjTbwX36Xkc713oQdaGbXsEkNZJ2Jk0jV_irag4850sl5c3xUTZzK4j1BPxW3Wc-Cdc36TU_d2JS5tlRsrs3xk-73tC-yBJDd36EN-B9YxyArgpU4C0Ewz5tLuunBaiWyNnNv-WI3HvcdiwuRP6h-kifsBql_d4i2NePLeP1J2-5PCQR-LUuXaj6CoSSQ7BYdn-q1g=='\", \"b'&04\", \"\\\\x06\\\\x9b\\\\xf6\\\\xb7G\\\\xb4\\\\xc4\\\\xce\\\\xac\\\\x98\\\\xef;j\\\\x90~\\\\xa0\\\\x85O\\\\xa9K\\\\xfaKe\\\\x9a\\\\xb7\\\\x057kv8tk81\\\\xe8N)\\\\x96&\\\\xc8\\\\xea%\\\\xe1]\\\\xac\\\\xee\\\\xa5\\\\xf5R\\\\xc3gw=5\\\\x19\\\\xb7\\\\xfe\\\\xa6\\\\x1c=+T\\\\xdfQ\\\\xfe\\\\xe9\\\\xa3[b\\\\xd5P7\\\\x8ew\\\\xe6\\\\xa7\\\\xee\\\\x01B\\\\x12{<\\\\xea\\\\xc4\\\\x94kx\\\\xb0\\\\xd0\\\\xe9X2\\\\xff\\\\xd7\\\\xdbl#|1\\\\\\\\k\\\\x02\\\\x8b\\\\xef\\\\xeb\\\\xc5\\\\x02\\\\xfb^\\\\xbbA\\\\xca\\\\x16\\\\x7f\\\\x9e\\\\xa8pH\\\\x17\\\\xd3\\\\xe6L\\\\x0e\\\\x86',)\"]\n"
          ],
          "name": "stdout"
        }
      ]
    },
    {
      "cell_type": "code",
      "metadata": {
        "id": "lYH67kj15zdA",
        "colab_type": "code",
        "colab": {}
      },
      "source": [
        "skey=first_step[1]+first_step[2]"
      ],
      "execution_count": 0,
      "outputs": []
    },
    {
      "cell_type": "code",
      "metadata": {
        "id": "LrpjCTbK9eNa",
        "colab_type": "code",
        "outputId": "781067f2-b10f-473d-d313-4c1032872bfb",
        "colab": {
          "base_uri": "https://localhost:8080/",
          "height": 55
        }
      },
      "source": [
        "print(skey)"
      ],
      "execution_count": 0,
      "outputs": [
        {
          "output_type": "stream",
          "text": [
            "b'&04\\x06\\x9b\\xf6\\xb7G\\xb4\\xc4\\xce\\xac\\x98\\xef;j\\x90~\\xa0\\x85O\\xa9K\\xfaKe\\x9a\\xb7\\x057kv8tk81\\xe8N)\\x96&\\xc8\\xea%\\xe1]\\xac\\xee\\xa5\\xf5R\\xc3gw=5\\x19\\xb7\\xfe\\xa6\\x1c=+T\\xdfQ\\xfe\\xe9\\xa3[b\\xd5P7\\x8ew\\xe6\\xa7\\xee\\x01B\\x12{<\\xea\\xc4\\x94kx\\xb0\\xd0\\xe9X2\\xff\\xd7\\xdbl#|1\\\\k\\x02\\x8b\\xef\\xeb\\xc5\\x02\\xfb^\\xbbA\\xca\\x16\\x7f\\x9e\\xa8pH\\x17\\xd3\\xe6L\\x0e\\x86',)\n"
          ],
          "name": "stdout"
        }
      ]
    },
    {
      "cell_type": "code",
      "metadata": {
        "id": "qHPRrPH-795A",
        "colab_type": "code",
        "colab": {}
      },
      "source": [
        "decryptedkey=keyforsession.decrypt(ast.literal_eval(str(skey[:-2])))"
      ],
      "execution_count": 0,
      "outputs": []
    },
    {
      "cell_type": "code",
      "metadata": {
        "id": "kTUslBEY8cIf",
        "colab_type": "code",
        "outputId": "293aba52-c4cb-4061-f861-63029109e7fe",
        "colab": {
          "base_uri": "https://localhost:8080/",
          "height": 72
        }
      },
      "source": [
        "print(decryptedkey)\n",
        "print(first_step[0])"
      ],
      "execution_count": 0,
      "outputs": [
        {
          "output_type": "stream",
          "text": [
            "b'\\x11F\\x90Y\\xe9\\xeeq\\x9a\\xc6B\\x8f\\xb5N(&\\x1f\\xa2\\xf4%\\xfa\\x7f\\xa8&\\x18\\x1c\\x084\"\\xbe\\x0f`\\n\\x1f#\\xda\\xdb\\x0f\\xbe\\xa2G\\xee&\\xb2\\xc6!<\\xe8\\x966\\x95\\xd8\\xbd\\xfe\\xec\\x8c<\\xb8WT\\x877\\xb1\\xf4\\x0f\\xcfH\\xd8\\xf33\\t\\xe7_\\xb87\\xec\\xdaM\\xf0x}\\x13\\xe3\\xf2\\xb8\\x10\\x92\\xd9\\xab(\\xb9\\xfcO\\xce\\x9fX\\xa1\\xe8N\\xd9i\\x83L\\xc7KN,\\xc5Q:\\x0c\\xfc\\xcc\\x06T\\x8bq-\\xfb\\xcds\\x9e\\xeb\\xd1f\\x14W\\xe3\\x85'\n",
            "b'gAAAAABdrctbGNQQamSDG6Svz_iFmktz9E9zieHXZzDSqr-Wdz7ghH8nbvurhzpQ_rKbuuqnPjr1_nbePToNuldvQcExJBlenYiKY1WvUROo8G5UB4MuXXKBRx__2QgXsKxBt8zxUz4A0zB9vNFsxid51bex2dXlyf0q1QtIiYI6YDlJ9g0RnQ6SvP3H0JnbXgygMqBrmA3AUrp8_8MUHufSIJ5cDjTbwX36Xkc713oQdaGbXsEkNZJ2Jk0jV_irag4850sl5c3xUTZzK4j1BPxW3Wc-Cdc36TU_d2JS5tlRsrs3xk-73tC-yBJDd36EN-B9YxyArgpU4C0Ewz5tLuunBaiWyNnNv-WI3HvcdiwuRP6h-kifsBql_d4i2NePLeP1J2-5PCQR-LUuXaj6CoSSQ7BYdn-q1g=='\n"
          ],
          "name": "stdout"
        }
      ]
    },
    {
      "cell_type": "code",
      "metadata": {
        "id": "oi48L7-o8pPg",
        "colab_type": "code",
        "colab": {}
      },
      "source": [
        "f = Fernet(session_key)\n",
        "decrypted1 = f.decrypt(encryptedbysession)"
      ],
      "execution_count": 0,
      "outputs": []
    },
    {
      "cell_type": "code",
      "metadata": {
        "id": "9xMgPYxd_BeE",
        "colab_type": "code",
        "colab": {}
      },
      "source": [
        "uncmpstr = zlib.decompress(decrypted1)"
      ],
      "execution_count": 0,
      "outputs": []
    },
    {
      "cell_type": "code",
      "metadata": {
        "id": "e6ccWeqY_MkB",
        "colab_type": "code",
        "outputId": "bd479bbc-794d-4c07-a1c0-1f1ed7e882bd",
        "colab": {
          "base_uri": "https://localhost:8080/",
          "height": 55
        }
      },
      "source": [
        "print(uncmpstr)"
      ],
      "execution_count": 0,
      "outputs": [
        {
          "output_type": "stream",
          "text": [
            "b'hello world(b\\'JW h\\\\x08\\\\xac\\\\x82\\\\x05F\\\\xab[\\\\xbfE13)\\\\xf39FJZ\\\\x9a&\\\\x16\\\\x87nt\\\\xe4\\\\xd1\\\\xc5\\\\x9e]}\\\\x07;\\\\xed\\\\xd6\\\\xcc\\\\xb5\\\\x10\\\\x07\\\\xd4\\\\xd8\\\\xadq{T\\\\xfcy}\\\\xdb\\\\xf1\\\\xb7-6\\\\xcc\\\\x14\\\\xdcBo\\\\xbd\\\\xe9b@\\\\xdd\\\\xee\\\\xca\\\\xa1m1\"\\\\x08\\\\x0bp-Z\\\\xee\\\\x81\\\\x04\\\\xe2oQ\\\\xcc\\\\x8f>\\\\x1c\\\\xf6#\\\\x80h\\\\x80\\\\xdf;\\\\x0b\\\\xb9\\\\n\\\\xe1\\\\xde\\\\xe8\\\\x91\\\\x13\\\\xfar\\\\xec\\\\xd3\\\\xee\\\\x0c\\\\xb4\\\\x1a,\\\\x06\\\\xa7\\\\xd7\\\\x11\\\\x0c\\\\xcb\\\\x1f\\\\xfd<\\\\xddU\\\\x9a$#>@@\\\\xbe\\',)'\n"
          ],
          "name": "stdout"
        }
      ]
    },
    {
      "cell_type": "code",
      "metadata": {
        "id": "SN64jNpe_QXe",
        "colab_type": "code",
        "colab": {}
      },
      "source": [
        "res=uncmpstr.split(b'(')"
      ],
      "execution_count": 0,
      "outputs": []
    },
    {
      "cell_type": "code",
      "metadata": {
        "id": "rAMWZdjs_rBz",
        "colab_type": "code",
        "outputId": "193bcf32-5e59-4e76-d9ba-c54bf18d4d72",
        "colab": {
          "base_uri": "https://localhost:8080/",
          "height": 55
        }
      },
      "source": [
        "print(res)"
      ],
      "execution_count": 0,
      "outputs": [
        {
          "output_type": "stream",
          "text": [
            "[b'hello world', b'b\\'JW h\\\\x08\\\\xac\\\\x82\\\\x05F\\\\xab[\\\\xbfE13)\\\\xf39FJZ\\\\x9a&\\\\x16\\\\x87nt\\\\xe4\\\\xd1\\\\xc5\\\\x9e]}\\\\x07;\\\\xed\\\\xd6\\\\xcc\\\\xb5\\\\x10\\\\x07\\\\xd4\\\\xd8\\\\xadq{T\\\\xfcy}\\\\xdb\\\\xf1\\\\xb7-6\\\\xcc\\\\x14\\\\xdcBo\\\\xbd\\\\xe9b@\\\\xdd\\\\xee\\\\xca\\\\xa1m1\"\\\\x08\\\\x0bp-Z\\\\xee\\\\x81\\\\x04\\\\xe2oQ\\\\xcc\\\\x8f>\\\\x1c\\\\xf6#\\\\x80h\\\\x80\\\\xdf;\\\\x0b\\\\xb9\\\\n\\\\xe1\\\\xde\\\\xe8\\\\x91\\\\x13\\\\xfar\\\\xec\\\\xd3\\\\xee\\\\x0c\\\\xb4\\\\x1a,\\\\x06\\\\xa7\\\\xd7\\\\x11\\\\x0c\\\\xcb\\\\x1f\\\\xfd<\\\\xddU\\\\x9a$#>@@\\\\xbe\\',)']\n"
          ],
          "name": "stdout"
        }
      ]
    },
    {
      "cell_type": "code",
      "metadata": {
        "id": "ypffR_YS_0xn",
        "colab_type": "code",
        "colab": {}
      },
      "source": [
        "res1=hashlib.md5(str(res[0]).replace('b','')[1:12].encode())"
      ],
      "execution_count": 0,
      "outputs": []
    },
    {
      "cell_type": "code",
      "metadata": {
        "id": "AVKi3QGcDNN1",
        "colab_type": "code",
        "outputId": "36e0d59a-1534-4efe-f185-68dc8e5bf9d8",
        "colab": {
          "base_uri": "https://localhost:8080/",
          "height": 35
        }
      },
      "source": [
        "print(str(res[0]).replace('b','')[1:12])"
      ],
      "execution_count": 0,
      "outputs": [
        {
          "output_type": "stream",
          "text": [
            "hello world\n"
          ],
          "name": "stdout"
        }
      ]
    },
    {
      "cell_type": "code",
      "metadata": {
        "id": "F-lHkIMTDWst",
        "colab_type": "code",
        "colab": {}
      },
      "source": [
        ""
      ],
      "execution_count": 0,
      "outputs": []
    },
    {
      "cell_type": "code",
      "metadata": {
        "id": "4ivzAI68Ajeu",
        "colab_type": "code",
        "outputId": "09dcaa4a-35c7-4f2d-dbd8-0d15781b0413",
        "colab": {
          "base_uri": "https://localhost:8080/",
          "height": 55
        }
      },
      "source": [
        "print(res[1])"
      ],
      "execution_count": 0,
      "outputs": [
        {
          "output_type": "stream",
          "text": [
            "b'b\\'JW h\\\\x08\\\\xac\\\\x82\\\\x05F\\\\xab[\\\\xbfE13)\\\\xf39FJZ\\\\x9a&\\\\x16\\\\x87nt\\\\xe4\\\\xd1\\\\xc5\\\\x9e]}\\\\x07;\\\\xed\\\\xd6\\\\xcc\\\\xb5\\\\x10\\\\x07\\\\xd4\\\\xd8\\\\xadq{T\\\\xfcy}\\\\xdb\\\\xf1\\\\xb7-6\\\\xcc\\\\x14\\\\xdcBo\\\\xbd\\\\xe9b@\\\\xdd\\\\xee\\\\xca\\\\xa1m1\"\\\\x08\\\\x0bp-Z\\\\xee\\\\x81\\\\x04\\\\xe2oQ\\\\xcc\\\\x8f>\\\\x1c\\\\xf6#\\\\x80h\\\\x80\\\\xdf;\\\\x0b\\\\xb9\\\\n\\\\xe1\\\\xde\\\\xe8\\\\x91\\\\x13\\\\xfar\\\\xec\\\\xd3\\\\xee\\\\x0c\\\\xb4\\\\x1a,\\\\x06\\\\xa7\\\\xd7\\\\x11\\\\x0c\\\\xcb\\\\x1f\\\\xfd<\\\\xddU\\\\x9a$#>@@\\\\xbe\\',)'\n"
          ],
          "name": "stdout"
        }
      ]
    },
    {
      "cell_type": "code",
      "metadata": {
        "id": "_5VgfUkCAly6",
        "colab_type": "code",
        "colab": {}
      },
      "source": [
        "hashing=res[1]"
      ],
      "execution_count": 0,
      "outputs": []
    },
    {
      "cell_type": "code",
      "metadata": {
        "id": "wcs5yfp7Ciqr",
        "colab_type": "code",
        "colab": {}
      },
      "source": [
        "decrypted2=hash_object"
      ],
      "execution_count": 0,
      "outputs": []
    },
    {
      "cell_type": "code",
      "metadata": {
        "id": "dVjekPTLBMjb",
        "colab_type": "code",
        "outputId": "acc19166-2830-48e9-b7e3-845857670935",
        "colab": {
          "base_uri": "https://localhost:8080/",
          "height": 55
        }
      },
      "source": [
        "print(hashing)"
      ],
      "execution_count": 0,
      "outputs": [
        {
          "output_type": "stream",
          "text": [
            "b'b\\'JW h\\\\x08\\\\xac\\\\x82\\\\x05F\\\\xab[\\\\xbfE13)\\\\xf39FJZ\\\\x9a&\\\\x16\\\\x87nt\\\\xe4\\\\xd1\\\\xc5\\\\x9e]}\\\\x07;\\\\xed\\\\xd6\\\\xcc\\\\xb5\\\\x10\\\\x07\\\\xd4\\\\xd8\\\\xadq{T\\\\xfcy}\\\\xdb\\\\xf1\\\\xb7-6\\\\xcc\\\\x14\\\\xdcBo\\\\xbd\\\\xe9b@\\\\xdd\\\\xee\\\\xca\\\\xa1m1\"\\\\x08\\\\x0bp-Z\\\\xee\\\\x81\\\\x04\\\\xe2oQ\\\\xcc\\\\x8f>\\\\x1c\\\\xf6#\\\\x80h\\\\x80\\\\xdf;\\\\x0b\\\\xb9\\\\n\\\\xe1\\\\xde\\\\xe8\\\\x91\\\\x13\\\\xfar\\\\xec\\\\xd3\\\\xee\\\\x0c\\\\xb4\\\\x1a,\\\\x06\\\\xa7\\\\xd7\\\\x11\\\\x0c\\\\xcb\\\\x1f\\\\xfd<\\\\xddU\\\\x9a$#>@@\\\\xbe\\',)'\n"
          ],
          "name": "stdout"
        }
      ]
    },
    {
      "cell_type": "code",
      "metadata": {
        "id": "dRmOVGXUBOkn",
        "colab_type": "code",
        "outputId": "b979e99c-f159-4988-8f93-420d69233af8",
        "colab": {
          "base_uri": "https://localhost:8080/",
          "height": 55
        }
      },
      "source": [
        "print(hashing[2:])\n",
        "decrypted2 = key.decrypt(ast.literal_eval(str(hashing[2:])))"
      ],
      "execution_count": 0,
      "outputs": [
        {
          "output_type": "stream",
          "text": [
            "b'JW h\\\\x08\\\\xac\\\\x82\\\\x05F\\\\xab[\\\\xbfE13)\\\\xf39FJZ\\\\x9a&\\\\x16\\\\x87nt\\\\xe4\\\\xd1\\\\xc5\\\\x9e]}\\\\x07;\\\\xed\\\\xd6\\\\xcc\\\\xb5\\\\x10\\\\x07\\\\xd4\\\\xd8\\\\xadq{T\\\\xfcy}\\\\xdb\\\\xf1\\\\xb7-6\\\\xcc\\\\x14\\\\xdcBo\\\\xbd\\\\xe9b@\\\\xdd\\\\xee\\\\xca\\\\xa1m1\"\\\\x08\\\\x0bp-Z\\\\xee\\\\x81\\\\x04\\\\xe2oQ\\\\xcc\\\\x8f>\\\\x1c\\\\xf6#\\\\x80h\\\\x80\\\\xdf;\\\\x0b\\\\xb9\\\\n\\\\xe1\\\\xde\\\\xe8\\\\x91\\\\x13\\\\xfar\\\\xec\\\\xd3\\\\xee\\\\x0c\\\\xb4\\\\x1a,\\\\x06\\\\xa7\\\\xd7\\\\x11\\\\x0c\\\\xcb\\\\x1f\\\\xfd<\\\\xddU\\\\x9a$#>@@\\\\xbe\\',)'\n"
          ],
          "name": "stdout"
        }
      ]
    },
    {
      "cell_type": "code",
      "metadata": {
        "id": "jyttN-oiBWlq",
        "colab_type": "code",
        "outputId": "de1abf28-9a9a-48b5-f50f-6cdfaed9e57d",
        "colab": {
          "base_uri": "https://localhost:8080/",
          "height": 52
        }
      },
      "source": [
        "print(res1)\n",
        "print(res1.hexdigest())"
      ],
      "execution_count": 0,
      "outputs": [
        {
          "output_type": "stream",
          "text": [
            "<md5 HASH object @ 0x7fa9c4fae0d0>\n",
            "5eb63bbbe01eeed093cb22bb8f5acdc3\n"
          ],
          "name": "stdout"
        }
      ]
    },
    {
      "cell_type": "code",
      "metadata": {
        "id": "8xlzgQe-CvzB",
        "colab_type": "code",
        "outputId": "d439de2f-3473-4b5a-a568-06cfcefee6de",
        "colab": {
          "base_uri": "https://localhost:8080/",
          "height": 52
        }
      },
      "source": [
        "print(decrypted2)\n",
        "print(decrypted2.hexdigest())"
      ],
      "execution_count": 0,
      "outputs": [
        {
          "output_type": "stream",
          "text": [
            "<md5 HASH object @ 0x7fa9c5094f80>\n",
            "5eb63bbbe01eeed093cb22bb8f5acdc3\n"
          ],
          "name": "stdout"
        }
      ]
    },
    {
      "cell_type": "code",
      "metadata": {
        "id": "2QEWcYx1ACaZ",
        "colab_type": "code",
        "outputId": "9a970f54-3c65-41d8-f4ba-271fbd892ab6",
        "colab": {
          "base_uri": "https://localhost:8080/",
          "height": 35
        }
      },
      "source": [
        "if res1.hexdigest()==decrypted2.hexdigest():\n",
        "  print('Success')\n",
        "else:\n",
        "  print('meshok')"
      ],
      "execution_count": 0,
      "outputs": [
        {
          "output_type": "stream",
          "text": [
            "Success\n"
          ],
          "name": "stdout"
        }
      ]
    },
    {
      "cell_type": "code",
      "metadata": {
        "id": "V0LLShS5BL2Y",
        "colab_type": "code",
        "colab": {}
      },
      "source": [
        ""
      ],
      "execution_count": 0,
      "outputs": []
    },
    {
      "cell_type": "code",
      "metadata": {
        "id": "X5ctn-SOALK0",
        "colab_type": "code",
        "colab": {}
      },
      "source": [
        ""
      ],
      "execution_count": 0,
      "outputs": []
    }
  ]
}